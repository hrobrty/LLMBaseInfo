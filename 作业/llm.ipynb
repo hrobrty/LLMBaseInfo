# Please install OpenAI SDK first: `pip3 install openai`

# 1，直接暴露api加载

from openai import OpenAI #导库

import os

print(os.getcwd())  # 打印当前工作目录



#初始化客户端

client = OpenAI(api_key="sk-a7821b9b2c7645b280c264eae5ba1257", base_url="https://api.deepseek.com")
#通过客户端创建了一个对话的对象
response = client.chat.completions.create(

    model="deepseek-chat",

    #用来与ai回话的提示词

    messages=[

        {"role": "system", "content": "你是一个乐于助人的AI"},

        {"role": "user", "content": "你好,你是谁"},

    ],

    stream=False

)

# print(response)

print(response.choices[0].message.content)

# print(response.choices[0].finish_reason)


# 2，通过.env文件加载，更隐秘

from openai import OpenAI

from dotenv import load_dotenv

import os



#加载环境变量中的.env文件

# 这种是.env文件和项目在同一个目录

load_dotenv()



# 不在同一个目录时候

# load_dotenv(dotenv_path='/Users/hrobrty/Desktop/AGI学习资料/.env') 



# api_key=os.getenv('DEEPSEEK_API_KEY')

# base_url=os.getenv('DEEPSEEK_BASE_URL')

print(api_key)



#创建OpenAI的客户端

client = OpenAI() #兼容OpenAI的api

# client = OpenAI(api_key=api_key, base_url=base_url)

response = client.chat.completions.create(

    model="gpt-3.5-turbo",

    #用来与ai回话的提示词

    messages=[

        {"role": "system", "content": "你是一个乐于助人的AI"},

        {"role": "user", "content": "你背后是什么模型"},

    ],

    stream=False

)

# print(response)

print(response.choices[0].message.content)





from openai import OpenAI

from dotenv import load_dotenv

import os



# 打印当前工作目录

print(os.getcwd()) 

# load_dotenv()



# 不在同一个目录时候

load_dotenv(dotenv_path='/Users/hrobrty/Desktop/AGI学习资料/.env') 



#  openai测试

# client = OpenAI()



#  deepseek 测试

api_key=os.getenv('DEEPSEEK_API_KEY')

base_url=os.getenv('DEEPSEEK_BASE_URL')



print(api_key)

client = OpenAI(api_key=api_key, base_url=base_url)



#  gpt-3.5-turbo

def get_completion(prompt, model="deepseek-chat"):

    messages = [{"role": "user", "content": prompt}]

    response = client.chat.completions.create(

        model=model,

        messages=messages,

        temperature=0.9,

    )

    return response.choices[0].message.content



prompt= '小数9.9和9.11比较大小'

print(get_completion(prompt))